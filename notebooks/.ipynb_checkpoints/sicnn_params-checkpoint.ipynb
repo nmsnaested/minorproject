{
 "cells": [
  {
   "cell_type": "code",
   "execution_count": 1,
   "metadata": {},
   "outputs": [],
   "source": [
    "import torch\n",
    "import torch.nn as nn\n",
    "import torch.nn.functional as F\n",
    "\n",
    "from scale_cnn.convolution import ScaleConvolution\n",
    "from scale_cnn.pooling import ScalePool"
   ]
  },
  {
   "cell_type": "code",
   "execution_count": 2,
   "metadata": {},
   "outputs": [],
   "source": [
    "class SiCNN(nn.Module): \n",
    "    def __init__(self, f_in=1, size=5, ratio=2**(2/3), nratio=3, srange=2, padding=0, nb_classes=10, factor=1): \n",
    "        super().__init__()\n",
    "        '''\n",
    "        Scale equivariant arch with 3 convolutional layers\n",
    "        '''\n",
    "        self.f_in = f_in\n",
    "        self.size = size\n",
    "        self.ratio = ratio \n",
    "        self.nratio = nratio\n",
    "        self.srange = srange\n",
    "        self.padding = padding\n",
    "        self.nb_classes = nb_classes\n",
    "\n",
    "        self.conv1 = ScaleConvolution(self.f_in, int(factor*12), self.size, self.ratio, self.nratio, srange = 0, boundary_condition = \"dirichlet\", padding=self.padding, stride = 2)\n",
    "        self.conv2 = ScaleConvolution(int(factor*12), int(factor*21), self.size, self.ratio, self.nratio, srange = self.srange, boundary_condition = \"dirichlet\", padding=self.padding)\n",
    "        self.conv3 = ScaleConvolution(int(factor*21), int(factor*36), self.size, self.ratio, self.nratio, srange = self.srange, boundary_condition = \"dirichlet\", padding=self.padding)\n",
    "        self.conv4 = ScaleConvolution(int(factor*36), int(factor*36), self.size, self.ratio, self.nratio, srange = self.srange, boundary_condition = \"dirichlet\", padding=self.padding)\n",
    "        self.conv5 = ScaleConvolution(int(factor*36), int(factor*64), self.size, self.ratio, self.nratio, srange = self.srange, boundary_condition = \"dirichlet\", padding=self.padding)\n",
    "        self.conv6 = ScaleConvolution(int(factor*64), int(factor*64), self.size, self.ratio, self.nratio, srange = self.srange, boundary_condition = \"dirichlet\", padding=self.padding)\n",
    "        self.pool = ScalePool(self.ratio)\n",
    "        \n",
    "        self.fc = nn.Linear(int(factor*64), self.nb_classes, bias=True)\n",
    "\n",
    "    def forward(self, x): \n",
    "        x = x.unsqueeze(1)  # [batch, sigma, feature, y, x]\n",
    "        x = x.repeat(1, self.nratio, 1, 1, 1)  # [batch, sigma, feature, y, x]\n",
    "        \n",
    "        x = F.relu(self.conv1(x))\n",
    "        x = F.relu(self.conv2(x))\n",
    "        x = F.relu(self.conv3(x))\n",
    "        x = F.relu(self.conv4(x))\n",
    "        x = F.relu(self.conv5(x))\n",
    "        x = F.relu(self.conv6(x))\n",
    "        x = self.pool(x) # [batch,feature]\n",
    "        x = self.fc(x)\n",
    "        return x"
   ]
  },
  {
   "cell_type": "code",
   "execution_count": 3,
   "metadata": {},
   "outputs": [
    {
     "data": {
      "text/plain": [
       "1960183"
      ]
     },
     "execution_count": 3,
     "metadata": {},
     "output_type": "execute_result"
    }
   ],
   "source": [
    "sum(p.numel() for p in SiCNN(f_in=3, size=5, ratio=2**(1/3), nratio=6, srange=4, factor=1).parameters())"
   ]
  },
  {
   "cell_type": "code",
   "execution_count": 17,
   "metadata": {},
   "outputs": [
    {
     "data": {
      "text/plain": [
       "1963729"
      ]
     },
     "execution_count": 17,
     "metadata": {},
     "output_type": "execute_result"
    }
   ],
   "source": [
    "sum(p.numel() for p in SiCNN(f_in=3, size=5, ratio=2**(1/3), nratio=6, srange=0, factor=3).parameters())"
   ]
  },
  {
   "cell_type": "code",
   "execution_count": 18,
   "metadata": {},
   "outputs": [
    {
     "data": {
      "text/plain": [
       "SiCNN(\n",
       "  (conv1): ScaleConvolution (size=5, 3 → 108, n=6±0, dirichlet)\n",
       "  (conv2): ScaleConvolution (size=5, 108 → 192, n=6±0, dirichlet)\n",
       "  (conv3): ScaleConvolution (size=5, 192 → 288, n=6±0, dirichlet)\n",
       "  (conv4): ScaleConvolution (size=5, 288 → 288, n=6±0, dirichlet)\n",
       "  (conv5): ScaleConvolution (size=5, 288 → 576, n=6±0, dirichlet)\n",
       "  (conv6): ScaleConvolution (size=5, 576 → 576, n=6±0, dirichlet)\n",
       "  (pool): ScalePool\n",
       "  (fc): Linear(in_features=576, out_features=10, bias=True)\n",
       ")"
      ]
     },
     "execution_count": 18,
     "metadata": {},
     "output_type": "execute_result"
    }
   ],
   "source": [
    "SiCNN(f_in=3, size=5, ratio=2**(1/3), nratio=6, srange=0, factor=3)"
   ]
  },
  {
   "cell_type": "code",
   "execution_count": 19,
   "metadata": {},
   "outputs": [
    {
     "data": {
      "text/plain": [
       "9125306"
      ]
     },
     "execution_count": 19,
     "metadata": {},
     "output_type": "execute_result"
    }
   ],
   "source": [
    "sum(p.numel() for p in SiCNN(f_in=3, size=5, ratio=2**(2/3), nratio=3, srange=2, factor=1).parameters())"
   ]
  },
  {
   "cell_type": "code",
   "execution_count": 34,
   "metadata": {},
   "outputs": [
    {
     "data": {
      "text/plain": [
       "9069796"
      ]
     },
     "execution_count": 34,
     "metadata": {},
     "output_type": "execute_result"
    }
   ],
   "source": [
    "sum(p.numel() for p in SiCNN(f_in=3, size=5, ratio=2**(2/3), nratio=3, srange=0, factor=2.23).parameters())"
   ]
  },
  {
   "cell_type": "code",
   "execution_count": 8,
   "metadata": {},
   "outputs": [
    {
     "data": {
      "text/plain": [
       "116130"
      ]
     },
     "execution_count": 8,
     "metadata": {},
     "output_type": "execute_result"
    }
   ],
   "source": []
  },
  {
   "cell_type": "code",
   "execution_count": 11,
   "metadata": {},
   "outputs": [],
   "source": []
  },
  {
   "cell_type": "code",
   "execution_count": 12,
   "metadata": {},
   "outputs": [
    {
     "data": {
      "text/plain": [
       "907180"
      ]
     },
     "execution_count": 12,
     "metadata": {},
     "output_type": "execute_result"
    }
   ],
   "source": []
  },
  {
   "cell_type": "code",
   "execution_count": 22,
   "metadata": {},
   "outputs": [
    {
     "data": {
      "text/plain": [
       "909849"
      ]
     },
     "execution_count": 22,
     "metadata": {},
     "output_type": "execute_result"
    }
   ],
   "source": []
  },
  {
   "cell_type": "code",
   "execution_count": null,
   "metadata": {},
   "outputs": [],
   "source": []
  }
 ],
 "metadata": {
  "kernelspec": {
   "display_name": "Python 3",
   "language": "python",
   "name": "python3"
  },
  "language_info": {
   "codemirror_mode": {
    "name": "ipython",
    "version": 3
   },
   "file_extension": ".py",
   "mimetype": "text/x-python",
   "name": "python",
   "nbconvert_exporter": "python",
   "pygments_lexer": "ipython3",
   "version": "3.6.4"
  }
 },
 "nbformat": 4,
 "nbformat_minor": 2
}
